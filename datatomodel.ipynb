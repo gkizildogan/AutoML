{
 "cells": [
  {
   "cell_type": "code",
   "execution_count": 1,
   "metadata": {},
   "outputs": [],
   "source": [
    "import yfinance as yf\n",
    "from datetime import date,timedelta\n",
    "from pycaret import time_series as ts\n",
    "from pycaret.time_series import *\n",
    "import plotly.express as px\n",
    "import warnings\n",
    "import pandas as pd"
   ]
  },
  {
   "cell_type": "code",
   "execution_count": 2,
   "metadata": {
    "tags": []
   },
   "outputs": [],
   "source": [
    "warnings.filterwarnings('ignore')"
   ]
  },
  {
   "cell_type": "code",
   "execution_count": 3,
   "metadata": {},
   "outputs": [
    {
     "name": "stdout",
     "output_type": "stream",
     "text": [
      "Transformation Pipeline and Model Successfully Loaded\n"
     ]
    },
    {
     "data": {
      "text/html": [
       "<div>\n",
       "<style scoped>\n",
       "    .dataframe tbody tr th:only-of-type {\n",
       "        vertical-align: middle;\n",
       "    }\n",
       "\n",
       "    .dataframe tbody tr th {\n",
       "        vertical-align: top;\n",
       "    }\n",
       "\n",
       "    .dataframe thead th {\n",
       "        text-align: right;\n",
       "    }\n",
       "</style>\n",
       "<table border=\"1\" class=\"dataframe\">\n",
       "  <thead>\n",
       "    <tr style=\"text-align: right;\">\n",
       "      <th></th>\n",
       "      <th>y_pred</th>\n",
       "    </tr>\n",
       "  </thead>\n",
       "  <tbody>\n",
       "    <tr>\n",
       "      <th>2023-06-28</th>\n",
       "      <td>19.7987</td>\n",
       "    </tr>\n",
       "    <tr>\n",
       "      <th>2023-06-29</th>\n",
       "      <td>19.5628</td>\n",
       "    </tr>\n",
       "    <tr>\n",
       "      <th>2023-06-30</th>\n",
       "      <td>19.3862</td>\n",
       "    </tr>\n",
       "    <tr>\n",
       "      <th>2023-07-01</th>\n",
       "      <td>19.3008</td>\n",
       "    </tr>\n",
       "    <tr>\n",
       "      <th>2023-07-02</th>\n",
       "      <td>19.2250</td>\n",
       "    </tr>\n",
       "    <tr>\n",
       "      <th>2023-07-03</th>\n",
       "      <td>19.2071</td>\n",
       "    </tr>\n",
       "    <tr>\n",
       "      <th>2023-07-04</th>\n",
       "      <td>19.1765</td>\n",
       "    </tr>\n",
       "    <tr>\n",
       "      <th>2023-07-05</th>\n",
       "      <td>19.1889</td>\n",
       "    </tr>\n",
       "    <tr>\n",
       "      <th>2023-07-06</th>\n",
       "      <td>19.1786</td>\n",
       "    </tr>\n",
       "    <tr>\n",
       "      <th>2023-07-07</th>\n",
       "      <td>19.2045</td>\n",
       "    </tr>\n",
       "    <tr>\n",
       "      <th>2023-07-08</th>\n",
       "      <td>19.2033</td>\n",
       "    </tr>\n",
       "    <tr>\n",
       "      <th>2023-07-09</th>\n",
       "      <td>19.2353</td>\n",
       "    </tr>\n",
       "    <tr>\n",
       "      <th>2023-07-10</th>\n",
       "      <td>19.2382</td>\n",
       "    </tr>\n",
       "    <tr>\n",
       "      <th>2023-07-11</th>\n",
       "      <td>19.2730</td>\n",
       "    </tr>\n",
       "    <tr>\n",
       "      <th>2023-07-12</th>\n",
       "      <td>19.2776</td>\n",
       "    </tr>\n",
       "  </tbody>\n",
       "</table>\n",
       "</div>"
      ],
      "text/plain": [
       "             y_pred\n",
       "2023-06-28  19.7987\n",
       "2023-06-29  19.5628\n",
       "2023-06-30  19.3862\n",
       "2023-07-01  19.3008\n",
       "2023-07-02  19.2250\n",
       "2023-07-03  19.2071\n",
       "2023-07-04  19.1765\n",
       "2023-07-05  19.1889\n",
       "2023-07-06  19.1786\n",
       "2023-07-07  19.2045\n",
       "2023-07-08  19.2033\n",
       "2023-07-09  19.2353\n",
       "2023-07-10  19.2382\n",
       "2023-07-11  19.2730\n",
       "2023-07-12  19.2776"
      ]
     },
     "execution_count": 3,
     "metadata": {},
     "output_type": "execute_result"
    }
   ],
   "source": [
    "loaded_exp = TSForecastingExperiment()\n",
    "loaded_model = loaded_exp.load_model(\"finalized_best_model\")\n",
    "loaded_exp.predict_model(loaded_model, fh = 15)"
   ]
  },
  {
   "cell_type": "code",
   "execution_count": 4,
   "metadata": {},
   "outputs": [
    {
     "data": {
      "text/html": [
       "<style>#sk-c5da218c-2976-4c24-b856-cb1a96d552a3 {color: black;background-color: white;}#sk-c5da218c-2976-4c24-b856-cb1a96d552a3 pre{padding: 0;}#sk-c5da218c-2976-4c24-b856-cb1a96d552a3 div.sk-toggleable {background-color: white;}#sk-c5da218c-2976-4c24-b856-cb1a96d552a3 label.sk-toggleable__label {cursor: pointer;display: block;width: 100%;margin-bottom: 0;padding: 0.3em;box-sizing: border-box;text-align: center;}#sk-c5da218c-2976-4c24-b856-cb1a96d552a3 label.sk-toggleable__label-arrow:before {content: \"▸\";float: left;margin-right: 0.25em;color: #696969;}#sk-c5da218c-2976-4c24-b856-cb1a96d552a3 label.sk-toggleable__label-arrow:hover:before {color: black;}#sk-c5da218c-2976-4c24-b856-cb1a96d552a3 div.sk-estimator:hover label.sk-toggleable__label-arrow:before {color: black;}#sk-c5da218c-2976-4c24-b856-cb1a96d552a3 div.sk-toggleable__content {max-height: 0;max-width: 0;overflow: hidden;text-align: left;background-color: #f0f8ff;}#sk-c5da218c-2976-4c24-b856-cb1a96d552a3 div.sk-toggleable__content pre {margin: 0.2em;color: black;border-radius: 0.25em;background-color: #f0f8ff;}#sk-c5da218c-2976-4c24-b856-cb1a96d552a3 input.sk-toggleable__control:checked~div.sk-toggleable__content {max-height: 200px;max-width: 100%;overflow: auto;}#sk-c5da218c-2976-4c24-b856-cb1a96d552a3 input.sk-toggleable__control:checked~label.sk-toggleable__label-arrow:before {content: \"▾\";}#sk-c5da218c-2976-4c24-b856-cb1a96d552a3 div.sk-estimator input.sk-toggleable__control:checked~label.sk-toggleable__label {background-color: #d4ebff;}#sk-c5da218c-2976-4c24-b856-cb1a96d552a3 div.sk-label input.sk-toggleable__control:checked~label.sk-toggleable__label {background-color: #d4ebff;}#sk-c5da218c-2976-4c24-b856-cb1a96d552a3 input.sk-hidden--visually {border: 0;clip: rect(1px 1px 1px 1px);clip: rect(1px, 1px, 1px, 1px);height: 1px;margin: -1px;overflow: hidden;padding: 0;position: absolute;width: 1px;}#sk-c5da218c-2976-4c24-b856-cb1a96d552a3 div.sk-estimator {font-family: monospace;background-color: #f0f8ff;border: 1px dotted black;border-radius: 0.25em;box-sizing: border-box;margin-bottom: 0.5em;}#sk-c5da218c-2976-4c24-b856-cb1a96d552a3 div.sk-estimator:hover {background-color: #d4ebff;}#sk-c5da218c-2976-4c24-b856-cb1a96d552a3 div.sk-parallel-item::after {content: \"\";width: 100%;border-bottom: 1px solid gray;flex-grow: 1;}#sk-c5da218c-2976-4c24-b856-cb1a96d552a3 div.sk-label:hover label.sk-toggleable__label {background-color: #d4ebff;}#sk-c5da218c-2976-4c24-b856-cb1a96d552a3 div.sk-serial::before {content: \"\";position: absolute;border-left: 1px solid gray;box-sizing: border-box;top: 2em;bottom: 0;left: 50%;}#sk-c5da218c-2976-4c24-b856-cb1a96d552a3 div.sk-serial {display: flex;flex-direction: column;align-items: center;background-color: white;padding-right: 0.2em;padding-left: 0.2em;}#sk-c5da218c-2976-4c24-b856-cb1a96d552a3 div.sk-item {z-index: 1;}#sk-c5da218c-2976-4c24-b856-cb1a96d552a3 div.sk-parallel {display: flex;align-items: stretch;justify-content: center;background-color: white;}#sk-c5da218c-2976-4c24-b856-cb1a96d552a3 div.sk-parallel::before {content: \"\";position: absolute;border-left: 1px solid gray;box-sizing: border-box;top: 2em;bottom: 0;left: 50%;}#sk-c5da218c-2976-4c24-b856-cb1a96d552a3 div.sk-parallel-item {display: flex;flex-direction: column;position: relative;background-color: white;}#sk-c5da218c-2976-4c24-b856-cb1a96d552a3 div.sk-parallel-item:first-child::after {align-self: flex-end;width: 50%;}#sk-c5da218c-2976-4c24-b856-cb1a96d552a3 div.sk-parallel-item:last-child::after {align-self: flex-start;width: 50%;}#sk-c5da218c-2976-4c24-b856-cb1a96d552a3 div.sk-parallel-item:only-child::after {width: 0;}#sk-c5da218c-2976-4c24-b856-cb1a96d552a3 div.sk-dashed-wrapped {border: 1px dashed gray;margin: 0 0.4em 0.5em 0.4em;box-sizing: border-box;padding-bottom: 0.4em;background-color: white;position: relative;}#sk-c5da218c-2976-4c24-b856-cb1a96d552a3 div.sk-label label {font-family: monospace;font-weight: bold;background-color: white;display: inline-block;line-height: 1.2em;}#sk-c5da218c-2976-4c24-b856-cb1a96d552a3 div.sk-label-container {position: relative;z-index: 2;text-align: center;}#sk-c5da218c-2976-4c24-b856-cb1a96d552a3 div.sk-container {/* jupyter's `normalize.less` sets `[hidden] { display: none; }` but bootstrap.min.css set `[hidden] { display: none !important; }` so we also need the `!important` here to be able to override the default hidden behavior on the sphinx rendered scikit-learn.org. See: https://github.com/scikit-learn/scikit-learn/issues/21755 */display: inline-block !important;position: relative;}#sk-c5da218c-2976-4c24-b856-cb1a96d552a3 div.sk-text-repr-fallback {display: none;}</style><div id='sk-c5da218c-2976-4c24-b856-cb1a96d552a3' class=\"sk-top-container\"><div class=\"sk-text-repr-fallback\"><pre>ForecastingPipeline(steps=[(&#x27;forecaster&#x27;,\n",
       "                            TransformedTargetForecaster(steps=[(&#x27;model&#x27;,\n",
       "                                                                ForecastingPipeline(steps=[(&#x27;forecaster&#x27;,\n",
       "                                                                                            TransformedTargetForecaster(steps=[(&#x27;model&#x27;,\n",
       "                                                                                                                                BaseCdsDtForecaster(fe_target_rr=[WindowSummarizer(lag_feature={&#x27;lag&#x27;: [2,\n",
       "                                                                                                                                                                                                        1]},\n",
       "                                                                                                                                                                                   n_jobs=1)],\n",
       "                                                                                                                                                    regressor=Lasso(random_state=73),\n",
       "                                                                                                                                                    sp=2,\n",
       "                                                                                                                                                    window_length=2))]))]))]))])</pre><b>Please rerun this cell to show the HTML repr or trust the notebook.</b></div><div class=\"sk-container\" hidden><div class=\"sk-item sk-dashed-wrapped\"><div class='sk-label-container'><div class=\"sk-label sk-toggleable\"><input class=\"sk-toggleable__control sk-hidden--visually\" id=UUID('80b21ee4-055b-482d-962b-a4a19b57be40') type=\"checkbox\" ><label for=UUID('80b21ee4-055b-482d-962b-a4a19b57be40') class='sk-toggleable__label sk-toggleable__label-arrow'>ForecastingPipeline</label><div class=\"sk-toggleable__content\"><pre>ForecastingPipeline(steps=[(&#x27;forecaster&#x27;,\n",
       "                            TransformedTargetForecaster(steps=[(&#x27;model&#x27;,\n",
       "                                                                ForecastingPipeline(steps=[(&#x27;forecaster&#x27;,\n",
       "                                                                                            TransformedTargetForecaster(steps=[(&#x27;model&#x27;,\n",
       "                                                                                                                                BaseCdsDtForecaster(fe_target_rr=[WindowSummarizer(lag_feature={&#x27;lag&#x27;: [2,\n",
       "                                                                                                                                                                                                        1]},\n",
       "                                                                                                                                                                                   n_jobs=1)],\n",
       "                                                                                                                                                    regressor=Lasso(random_state=73),\n",
       "                                                                                                                                                    sp=2,\n",
       "                                                                                                                                                    window_length=2))]))]))]))])</pre></div></div></div><div class=\"sk-parallel\"><div class=\"sk-parallel-item\"><div class=\"sk-item\"><div class=\"sk-serial\"><div class=\"sk-item sk-dashed-wrapped\"><div class=\"sk-parallel\"><div class=\"sk-parallel-item\"><div class=\"sk-item\"><div class=\"sk-serial\"><div class=\"sk-item sk-dashed-wrapped\"><div class=\"sk-parallel\"><div class=\"sk-parallel-item\"><div class=\"sk-item\"><div class=\"sk-serial\"><div class=\"sk-item sk-dashed-wrapped\"><div class=\"sk-parallel\"><div class=\"sk-parallel-item\"><div class=\"sk-item\"><div class=\"sk-serial\"><div class=\"sk-item sk-dashed-wrapped\"><div class=\"sk-parallel\"><div class=\"sk-parallel-item\"><div class=\"sk-item\"><div class=\"sk-serial\"><div class='sk-item'><div class=\"sk-estimator sk-toggleable\"><input class=\"sk-toggleable__control sk-hidden--visually\" id=UUID('287b650f-e88f-4e92-b7d5-6e1bf5afa978') type=\"checkbox\" ><label for=UUID('287b650f-e88f-4e92-b7d5-6e1bf5afa978') class='sk-toggleable__label sk-toggleable__label-arrow'>Lasso</label><div class=\"sk-toggleable__content\"><pre>Lasso(random_state=73)</pre></div></div></div></div></div></div></div></div></div></div></div></div></div></div></div></div></div></div></div></div></div></div></div></div></div></div></div></div></div></div>"
      ],
      "text/plain": [
       "ForecastingPipeline(steps=[('forecaster',\n",
       "                            TransformedTargetForecaster(steps=[('model',\n",
       "                                                                ForecastingPipeline(steps=[('forecaster',\n",
       "                                                                                            TransformedTargetForecaster(steps=[('model',\n",
       "                                                                                                                                BaseCdsDtForecaster(fe_target_rr=[WindowSummarizer(lag_feature={'lag': [2,\n",
       "                                                                                                                                                                                                        1]},\n",
       "                                                                                                                                                                                   n_jobs=1)],\n",
       "                                                                                                                                                    regressor=Lasso(random_state=73),\n",
       "                                                                                                                                                    sp=2,\n",
       "                                                                                                                                                    window_length=2))]))]))]))])"
      ]
     },
     "execution_count": 4,
     "metadata": {},
     "output_type": "execute_result"
    }
   ],
   "source": [
    "loaded_model"
   ]
  },
  {
   "cell_type": "code",
   "execution_count": null,
   "metadata": {},
   "outputs": [],
   "source": []
  }
 ],
 "metadata": {
  "kernelspec": {
   "display_name": "Python 3 (ipykernel)",
   "language": "python",
   "name": "python3"
  },
  "language_info": {
   "codemirror_mode": {
    "name": "ipython",
    "version": 3
   },
   "file_extension": ".py",
   "mimetype": "text/x-python",
   "name": "python",
   "nbconvert_exporter": "python",
   "pygments_lexer": "ipython3",
   "version": "3.10.11"
  }
 },
 "nbformat": 4,
 "nbformat_minor": 4
}
